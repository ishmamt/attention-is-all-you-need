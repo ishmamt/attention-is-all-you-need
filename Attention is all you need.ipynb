{
 "cells": [
  {
   "cell_type": "markdown",
   "id": "1c67b88e",
   "metadata": {},
   "source": [
    "# Attention is all you need\n",
    "\n",
    "I will be implementing the <a href=\"https://arxiv.org/pdf/1706.03762.pdf\">**Attention is all you need**</a> paper following the wonderful work in <a href=\"http://nlp.seas.harvard.edu/2018/04/03/attention.html\">**The Annotated Transformer**</a> by Harverd NLP.\n",
    "\n",
    "This is maily for clearly understanding the transformer architecture."
   ]
  },
  {
   "cell_type": "code",
   "execution_count": 14,
   "id": "d862acca",
   "metadata": {},
   "outputs": [],
   "source": [
    "import numpy as np\n",
    "import torch\n",
    "import torch.nn as nn\n",
    "import torch.nn.functional as F\n",
    "import math, copy, time\n",
    "from torch.autograd import Variable\n",
    "import matplotlib.pyplot as plt\n",
    "import seaborn\n",
    "seaborn.set_context(context=\"talk\")\n",
    "%matplotlib inline"
   ]
  },
  {
   "cell_type": "markdown",
   "id": "0061fd07",
   "metadata": {},
   "source": [
    "# Encoder-Decoder architecture\n",
    "\n",
    "This is the base of many sequence to sequence models"
   ]
  },
  {
   "cell_type": "code",
   "execution_count": 15,
   "id": "702bb4a6",
   "metadata": {},
   "outputs": [],
   "source": [
    "class EncoderDecoder(nn.Module):\n",
    "    def __init__(self, encoder, decoder, source_embed, target_embed, generator):\n",
    "        super(EncoderDecoder, self).__init__()\n",
    "        self.encoder = encoder\n",
    "        self.decoder = decoder\n",
    "        self.source_embed = source_embed\n",
    "        self.target_embed = target_embed\n",
    "        self.generator = generator\n",
    "        \n",
    "    def forward(self, source, target, source_mask, target_mask):\n",
    "        encoded_result = self.encoder(self.source_embed(source), source_mask)\n",
    "        decoded_result = self.decoder(self.target_embed(target), encoded_result, source_mask, target_mask)\n",
    "        return decoded_result"
   ]
  },
  {
   "cell_type": "code",
   "execution_count": 17,
   "id": "d9cb37d8",
   "metadata": {},
   "outputs": [],
   "source": [
    "class Generator(nn.Module):\n",
    "    \"\"\"\n",
    "    Single linear layer to project decoder output into the vocabulary space.\n",
    "    \"\"\"\n",
    "    def __init__(self, vocab, model_dim):\n",
    "        super(Generator, self).__init__()\n",
    "        self.projection = nn.Linear(model_dim, vocab)\n",
    "        \n",
    "    def forward(self, x):\n",
    "        return F.log_softmax(self.projection(x), dim=-1)"
   ]
  },
  {
   "cell_type": "markdown",
   "id": "0391d0d0",
   "metadata": {},
   "source": [
    "# Encoder-Decoder stacks\n",
    "## Encoder"
   ]
  },
  {
   "cell_type": "code",
   "execution_count": 33,
   "id": "90d9ab2b",
   "metadata": {},
   "outputs": [],
   "source": [
    "def clones(module, N):\n",
    "    \"\"\"\n",
    "    Copies a module N times\n",
    "    \"\"\"\n",
    "    return nn.ModuleList([copy.deepcopy(module) for _ in range(N)])"
   ]
  },
  {
   "cell_type": "code",
   "execution_count": 35,
   "id": "b7d80a7d",
   "metadata": {},
   "outputs": [],
   "source": [
    "class Encoder(nn.Module):\n",
    "    def __init__(self, module, N):\n",
    "        super(Encoder, self).__init__()\n",
    "        self.layers = clones(module, N)\n",
    "        self.layer_norm = LayerNorm(module.size)\n",
    "    \n",
    "    def forward(self, x, mask):\n",
    "        for layer in self.layers:\n",
    "            x = layer(x, mask)\n",
    "        return self.norm(x)"
   ]
  },
  {
   "cell_type": "markdown",
   "id": "7cb9dec6",
   "metadata": {},
   "source": [
    "Here I apply layer normalization:\n",
    "\n",
    "<img src=\"https://miro.medium.com/max/498/1*VSYtYThHQtxq1dNkVu6leQ.png\">"
   ]
  },
  {
   "cell_type": "code",
   "execution_count": 36,
   "id": "8136baed",
   "metadata": {},
   "outputs": [],
   "source": [
    "class LayerNorm(nn.Module):\n",
    "    def __init__(self, module_size, epsilon=1e-6):\n",
    "        super(LayerNorm, self).__init__()\n",
    "        # creating two learnable parameters for layer norm\n",
    "        self.a_2 = nn.Parameter(torch.ones(module_size))\n",
    "        self.b_2 = nn.Parameter(torch.ones(module_size))\n",
    "        self.epsilon = epsilon\n",
    "        \n",
    "    def forward(self, x):\n",
    "        mean = x.mean(dim=-1, keepdims=True)\n",
    "        std = x.std(dim=-1, keepdims=True)\n",
    "        return (self.a_2 * (x - mean) / (std + self.epsilon)) + self.b_2"
   ]
  },
  {
   "cell_type": "code",
   "execution_count": null,
   "id": "2c3049f3",
   "metadata": {},
   "outputs": [],
   "source": []
  }
 ],
 "metadata": {
  "kernelspec": {
   "display_name": "Python 3",
   "language": "python",
   "name": "python3"
  },
  "language_info": {
   "codemirror_mode": {
    "name": "ipython",
    "version": 3
   },
   "file_extension": ".py",
   "mimetype": "text/x-python",
   "name": "python",
   "nbconvert_exporter": "python",
   "pygments_lexer": "ipython3",
   "version": "3.7.10"
  }
 },
 "nbformat": 4,
 "nbformat_minor": 5
}
